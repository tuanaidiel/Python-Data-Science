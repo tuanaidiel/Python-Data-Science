{
 "cells": [
  {
   "cell_type": "code",
   "execution_count": 1,
   "id": "6b34a3ba-4bf6-4b96-9b43-db7a50e28964",
   "metadata": {},
   "outputs": [],
   "source": [
    "import pandas as pd"
   ]
  },
  {
   "cell_type": "code",
   "execution_count": 2,
   "id": "68bec598-9af0-4210-b268-3a28250e8545",
   "metadata": {},
   "outputs": [
    {
     "data": {
      "text/plain": [
       "[10, 20, 30, 40, 50]"
      ]
     },
     "execution_count": 2,
     "metadata": {},
     "output_type": "execute_result"
    }
   ],
   "source": [
    "data = [10,20,30,40,50]\n",
    "data"
   ]
  },
  {
   "cell_type": "code",
   "execution_count": 4,
   "id": "5e763b53-4919-4d21-a1f0-30bf5dac7deb",
   "metadata": {},
   "outputs": [
    {
     "data": {
      "text/plain": [
       "0    10\n",
       "1    20\n",
       "2    30\n",
       "3    40\n",
       "4    50\n",
       "dtype: int64"
      ]
     },
     "execution_count": 4,
     "metadata": {},
     "output_type": "execute_result"
    }
   ],
   "source": [
    "myfirstseries = pd.Series (data)\n",
    "myfirstseries"
   ]
  },
  {
   "cell_type": "code",
   "execution_count": 6,
   "id": "ab35ef6f-e848-4e08-9d82-f0025e184817",
   "metadata": {},
   "outputs": [
    {
     "data": {
      "text/plain": [
       "['apple', 'orange', 'mango', 'banana', 'grapes']"
      ]
     },
     "execution_count": 6,
     "metadata": {},
     "output_type": "execute_result"
    }
   ],
   "source": [
    "data = ['apple','orange','mango','banana','grapes']\n",
    "data"
   ]
  },
  {
   "cell_type": "code",
   "execution_count": 7,
   "id": "d0f8d26c-6cf2-4169-a5fb-cf9b0300da6d",
   "metadata": {},
   "outputs": [
    {
     "data": {
      "text/plain": [
       "0     apple\n",
       "1    orange\n",
       "2     mango\n",
       "3    banana\n",
       "4    grapes\n",
       "dtype: object"
      ]
     },
     "execution_count": 7,
     "metadata": {},
     "output_type": "execute_result"
    }
   ],
   "source": [
    "mysecondseries = pd.Series (data)\n",
    "mysecondseries"
   ]
  },
  {
   "cell_type": "code",
   "execution_count": 8,
   "id": "e4215757-2017-4ff3-b40e-96cee4b261ae",
   "metadata": {},
   "outputs": [
    {
     "data": {
      "text/plain": [
       "Johor       300\n",
       "Kedah       200\n",
       "Kelantan    100\n",
       "Melaka       50\n",
       "Pahang       10\n",
       "dtype: int64"
      ]
     },
     "execution_count": 8,
     "metadata": {},
     "output_type": "execute_result"
    }
   ],
   "source": [
    "data = [300, 200, 100, 50, 10]\n",
    "index = ['Johor', 'Kedah', 'Kelantan', 'Melaka', 'Pahang']\n",
    "mypopulationseries = pd.Series(data, index)\n",
    "mypopulationseries"
   ]
  },
  {
   "cell_type": "code",
   "execution_count": 10,
   "id": "9b1e6242-cc95-429d-8e98-85105e72c874",
   "metadata": {},
   "outputs": [
    {
     "data": {
      "text/plain": [
       "Johor       300\n",
       "Kedah       200\n",
       "Kelantan    100\n",
       "Melaka       50\n",
       "Pahang       10\n",
       "dtype: int64"
      ]
     },
     "execution_count": 10,
     "metadata": {},
     "output_type": "execute_result"
    }
   ],
   "source": [
    "data = {\n",
    "    'Johor': 300,\n",
    "    'Kedah': 200,\n",
    "    'Kelantan': 100,\n",
    "    'Melaka': 50,\n",
    "    'Pahang': 10\n",
    "}\n",
    "mypopulationseries = pd.Series(data)\n",
    "mypopulationseries"
   ]
  },
  {
   "cell_type": "code",
   "execution_count": 12,
   "id": "01dd1846-cc96-4f55-8dc1-2472724d82e2",
   "metadata": {},
   "outputs": [
    {
     "data": {
      "text/plain": [
       "Kedah       200\n",
       "Kelantan    100\n",
       "dtype: int64"
      ]
     },
     "execution_count": 12,
     "metadata": {},
     "output_type": "execute_result"
    }
   ],
   "source": [
    "# creating series using dictionary\n",
    "\n",
    "data = {\n",
    "    'Johor': 300,\n",
    "    'Kedah': 200,\n",
    "    'Kelantan': 100,\n",
    "    'Melaka': 50,\n",
    "    'Pahang': 10\n",
    "}\n",
    "index = ['Kedah', 'Kelantan']\n",
    "mypopulationseries = pd.Series(data, index)\n",
    "mypopulationseries"
   ]
  },
  {
   "cell_type": "markdown",
   "id": "2c6ea696-5fea-4a2a-b02d-f1a5f8db5643",
   "metadata": {},
   "source": [
    "### Selection and Indexing"
   ]
  },
  {
   "cell_type": "code",
   "execution_count": 13,
   "id": "c51b66a8-7aeb-4b93-b250-e000b2483e74",
   "metadata": {},
   "outputs": [
    {
     "data": {
      "text/plain": [
       "0     apple\n",
       "1    orange\n",
       "2     mango\n",
       "3    banana\n",
       "4    grapes\n",
       "dtype: object"
      ]
     },
     "execution_count": 13,
     "metadata": {},
     "output_type": "execute_result"
    }
   ],
   "source": [
    "mysecondseries"
   ]
  },
  {
   "cell_type": "code",
   "execution_count": 14,
   "id": "a60a2149-42ad-4e93-ad2d-3b3391286fab",
   "metadata": {},
   "outputs": [
    {
     "data": {
      "text/plain": [
       "0     apple\n",
       "1    orange\n",
       "2     mango\n",
       "dtype: object"
      ]
     },
     "execution_count": 14,
     "metadata": {},
     "output_type": "execute_result"
    }
   ],
   "source": [
    "# can treat like numpy array\n",
    "\n",
    "mysecondseries [0:3]"
   ]
  },
  {
   "cell_type": "code",
   "execution_count": 15,
   "id": "7e882783-a655-4d8f-b023-13b18f1e7e81",
   "metadata": {},
   "outputs": [
    {
     "data": {
      "text/plain": [
       "0     apple\n",
       "2     mango\n",
       "4    grapes\n",
       "dtype: object"
      ]
     },
     "execution_count": 15,
     "metadata": {},
     "output_type": "execute_result"
    }
   ],
   "source": [
    "mysecondseries [::2]"
   ]
  },
  {
   "cell_type": "code",
   "execution_count": 20,
   "id": "0af2c06a-42c9-48db-bba7-8adf8d315840",
   "metadata": {},
   "outputs": [
    {
     "data": {
      "text/plain": [
       "Johor       300\n",
       "Kedah       200\n",
       "Kelantan    100\n",
       "Melaka       50\n",
       "Pahang       10\n",
       "dtype: int64"
      ]
     },
     "execution_count": 20,
     "metadata": {},
     "output_type": "execute_result"
    }
   ],
   "source": [
    "data = {\n",
    "    'Johor': 300,\n",
    "    'Kedah': 200,\n",
    "    'Kelantan': 100,\n",
    "    'Melaka': 50,\n",
    "    'Pahang': 10\n",
    "}\n",
    "mypopulationseries = pd.Series(data)\n",
    "mypopulationseries"
   ]
  },
  {
   "cell_type": "code",
   "execution_count": 23,
   "id": "b6ca377b-bfe1-4c82-ad52-223f170e260a",
   "metadata": {},
   "outputs": [
    {
     "data": {
      "text/plain": [
       "Johor    300\n",
       "Kedah    200\n",
       "dtype: int64"
      ]
     },
     "execution_count": 23,
     "metadata": {},
     "output_type": "execute_result"
    }
   ],
   "source": [
    "mypopulationseries[['Johor','Kedah']]"
   ]
  },
  {
   "cell_type": "code",
   "execution_count": 24,
   "id": "232f8fa0-5c9e-4c4d-b302-50a413c622fa",
   "metadata": {},
   "outputs": [
    {
     "data": {
      "text/plain": [
       "0     apple\n",
       "2     mango\n",
       "4    grapes\n",
       "dtype: object"
      ]
     },
     "execution_count": 24,
     "metadata": {},
     "output_type": "execute_result"
    }
   ],
   "source": [
    "mysecondseries [[0,2,4]]"
   ]
  },
  {
   "cell_type": "code",
   "execution_count": 26,
   "id": "ca17e220-ee4c-4bf7-8a08-a7b1d6056d8b",
   "metadata": {},
   "outputs": [
    {
     "data": {
      "text/plain": [
       "0     apple\n",
       "2     mango\n",
       "4    grapes\n",
       "dtype: object"
      ]
     },
     "execution_count": 26,
     "metadata": {},
     "output_type": "execute_result"
    }
   ],
   "source": [
    "# loc used to pull out rows in a series\n",
    "\n",
    "mysecondseries.loc[[0,2,4]]"
   ]
  },
  {
   "cell_type": "code",
   "execution_count": 27,
   "id": "1a76fcc1-74a3-4595-a125-9a2aeb4d2d14",
   "metadata": {},
   "outputs": [
    {
     "data": {
      "text/plain": [
       "Johor     300\n",
       "Kedah     200\n",
       "Melaka     50\n",
       "dtype: int64"
      ]
     },
     "execution_count": 27,
     "metadata": {},
     "output_type": "execute_result"
    }
   ],
   "source": [
    "mypopulationseries.loc[['Johor', 'Kedah', 'Melaka']]"
   ]
  },
  {
   "cell_type": "code",
   "execution_count": 28,
   "id": "03251c79-0b52-4344-a154-7d0593dca361",
   "metadata": {},
   "outputs": [
    {
     "data": {
      "text/plain": [
       "np.int64(300)"
      ]
     },
     "execution_count": 28,
     "metadata": {},
     "output_type": "execute_result"
    }
   ],
   "source": [
    "# does mypopulationseries has generated index?\n",
    "\n",
    "mypopulationseries.iloc[0]"
   ]
  },
  {
   "cell_type": "code",
   "execution_count": 29,
   "id": "813acc3b-7c78-4787-85bd-ce358d1cab7f",
   "metadata": {},
   "outputs": [
    {
     "data": {
      "text/plain": [
       "Johor       300\n",
       "Kedah       200\n",
       "Kelantan    100\n",
       "Melaka       50\n",
       "dtype: int64"
      ]
     },
     "execution_count": 29,
     "metadata": {},
     "output_type": "execute_result"
    }
   ],
   "source": [
    "mypopulationseries.iloc[0:4]"
   ]
  },
  {
   "cell_type": "code",
   "execution_count": 30,
   "id": "e28d626a-780d-4cae-8f1e-2569a5fc6269",
   "metadata": {},
   "outputs": [
    {
     "data": {
      "text/plain": [
       "Johor       300\n",
       "Kelantan    100\n",
       "Pahang       10\n",
       "dtype: int64"
      ]
     },
     "execution_count": 30,
     "metadata": {},
     "output_type": "execute_result"
    }
   ],
   "source": [
    "mypopulationseries.iloc[[0,2,4]]"
   ]
  },
  {
   "cell_type": "code",
   "execution_count": null,
   "id": "26ffd633-6182-4f09-960a-9c5996786424",
   "metadata": {},
   "outputs": [],
   "source": []
  }
 ],
 "metadata": {
  "kernelspec": {
   "display_name": "Python 3 (ipykernel)",
   "language": "python",
   "name": "python3"
  },
  "language_info": {
   "codemirror_mode": {
    "name": "ipython",
    "version": 3
   },
   "file_extension": ".py",
   "mimetype": "text/x-python",
   "name": "python",
   "nbconvert_exporter": "python",
   "pygments_lexer": "ipython3",
   "version": "3.12.4"
  }
 },
 "nbformat": 4,
 "nbformat_minor": 5
}
