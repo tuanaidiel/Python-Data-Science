{
 "cells": [
  {
   "cell_type": "code",
   "execution_count": 42,
   "id": "6b34a3ba-4bf6-4b96-9b43-db7a50e28964",
   "metadata": {},
   "outputs": [],
   "source": [
    "import pandas as pd\n",
    "import numpy as np"
   ]
  },
  {
   "cell_type": "code",
   "execution_count": 2,
   "id": "68bec598-9af0-4210-b268-3a28250e8545",
   "metadata": {},
   "outputs": [
    {
     "data": {
      "text/plain": [
       "[10, 20, 30, 40, 50]"
      ]
     },
     "execution_count": 2,
     "metadata": {},
     "output_type": "execute_result"
    }
   ],
   "source": [
    "data = [10,20,30,40,50]\n",
    "data"
   ]
  },
  {
   "cell_type": "code",
   "execution_count": 4,
   "id": "5e763b53-4919-4d21-a1f0-30bf5dac7deb",
   "metadata": {},
   "outputs": [
    {
     "data": {
      "text/plain": [
       "0    10\n",
       "1    20\n",
       "2    30\n",
       "3    40\n",
       "4    50\n",
       "dtype: int64"
      ]
     },
     "execution_count": 4,
     "metadata": {},
     "output_type": "execute_result"
    }
   ],
   "source": [
    "myfirstseries = pd.Series (data)\n",
    "myfirstseries"
   ]
  },
  {
   "cell_type": "code",
   "execution_count": 6,
   "id": "ab35ef6f-e848-4e08-9d82-f0025e184817",
   "metadata": {},
   "outputs": [
    {
     "data": {
      "text/plain": [
       "['apple', 'orange', 'mango', 'banana', 'grapes']"
      ]
     },
     "execution_count": 6,
     "metadata": {},
     "output_type": "execute_result"
    }
   ],
   "source": [
    "data = ['apple','orange','mango','banana','grapes']\n",
    "data"
   ]
  },
  {
   "cell_type": "code",
   "execution_count": 7,
   "id": "d0f8d26c-6cf2-4169-a5fb-cf9b0300da6d",
   "metadata": {},
   "outputs": [
    {
     "data": {
      "text/plain": [
       "0     apple\n",
       "1    orange\n",
       "2     mango\n",
       "3    banana\n",
       "4    grapes\n",
       "dtype: object"
      ]
     },
     "execution_count": 7,
     "metadata": {},
     "output_type": "execute_result"
    }
   ],
   "source": [
    "mysecondseries = pd.Series (data)\n",
    "mysecondseries"
   ]
  },
  {
   "cell_type": "code",
   "execution_count": 8,
   "id": "e4215757-2017-4ff3-b40e-96cee4b261ae",
   "metadata": {},
   "outputs": [
    {
     "data": {
      "text/plain": [
       "Johor       300\n",
       "Kedah       200\n",
       "Kelantan    100\n",
       "Melaka       50\n",
       "Pahang       10\n",
       "dtype: int64"
      ]
     },
     "execution_count": 8,
     "metadata": {},
     "output_type": "execute_result"
    }
   ],
   "source": [
    "data = [300, 200, 100, 50, 10]\n",
    "index = ['Johor', 'Kedah', 'Kelantan', 'Melaka', 'Pahang']\n",
    "mypopulationseries = pd.Series(data, index)\n",
    "mypopulationseries"
   ]
  },
  {
   "cell_type": "code",
   "execution_count": 10,
   "id": "9b1e6242-cc95-429d-8e98-85105e72c874",
   "metadata": {},
   "outputs": [
    {
     "data": {
      "text/plain": [
       "Johor       300\n",
       "Kedah       200\n",
       "Kelantan    100\n",
       "Melaka       50\n",
       "Pahang       10\n",
       "dtype: int64"
      ]
     },
     "execution_count": 10,
     "metadata": {},
     "output_type": "execute_result"
    }
   ],
   "source": [
    "data = {\n",
    "    'Johor': 300,\n",
    "    'Kedah': 200,\n",
    "    'Kelantan': 100,\n",
    "    'Melaka': 50,\n",
    "    'Pahang': 10\n",
    "}\n",
    "mypopulationseries = pd.Series(data)\n",
    "mypopulationseries"
   ]
  },
  {
   "cell_type": "code",
   "execution_count": 12,
   "id": "01dd1846-cc96-4f55-8dc1-2472724d82e2",
   "metadata": {},
   "outputs": [
    {
     "data": {
      "text/plain": [
       "Kedah       200\n",
       "Kelantan    100\n",
       "dtype: int64"
      ]
     },
     "execution_count": 12,
     "metadata": {},
     "output_type": "execute_result"
    }
   ],
   "source": [
    "# creating series using dictionary\n",
    "\n",
    "data = {\n",
    "    'Johor': 300,\n",
    "    'Kedah': 200,\n",
    "    'Kelantan': 100,\n",
    "    'Melaka': 50,\n",
    "    'Pahang': 10\n",
    "}\n",
    "index = ['Kedah', 'Kelantan']\n",
    "mypopulationseries = pd.Series(data, index)\n",
    "mypopulationseries"
   ]
  },
  {
   "cell_type": "markdown",
   "id": "2c6ea696-5fea-4a2a-b02d-f1a5f8db5643",
   "metadata": {},
   "source": [
    "### Selection and Indexing"
   ]
  },
  {
   "cell_type": "code",
   "execution_count": 13,
   "id": "c51b66a8-7aeb-4b93-b250-e000b2483e74",
   "metadata": {},
   "outputs": [
    {
     "data": {
      "text/plain": [
       "0     apple\n",
       "1    orange\n",
       "2     mango\n",
       "3    banana\n",
       "4    grapes\n",
       "dtype: object"
      ]
     },
     "execution_count": 13,
     "metadata": {},
     "output_type": "execute_result"
    }
   ],
   "source": [
    "mysecondseries"
   ]
  },
  {
   "cell_type": "code",
   "execution_count": 14,
   "id": "a60a2149-42ad-4e93-ad2d-3b3391286fab",
   "metadata": {},
   "outputs": [
    {
     "data": {
      "text/plain": [
       "0     apple\n",
       "1    orange\n",
       "2     mango\n",
       "dtype: object"
      ]
     },
     "execution_count": 14,
     "metadata": {},
     "output_type": "execute_result"
    }
   ],
   "source": [
    "# can treat like numpy array\n",
    "\n",
    "mysecondseries [0:3]"
   ]
  },
  {
   "cell_type": "code",
   "execution_count": 15,
   "id": "7e882783-a655-4d8f-b023-13b18f1e7e81",
   "metadata": {},
   "outputs": [
    {
     "data": {
      "text/plain": [
       "0     apple\n",
       "2     mango\n",
       "4    grapes\n",
       "dtype: object"
      ]
     },
     "execution_count": 15,
     "metadata": {},
     "output_type": "execute_result"
    }
   ],
   "source": [
    "mysecondseries [::2]"
   ]
  },
  {
   "cell_type": "code",
   "execution_count": 20,
   "id": "0af2c06a-42c9-48db-bba7-8adf8d315840",
   "metadata": {},
   "outputs": [
    {
     "data": {
      "text/plain": [
       "Johor       300\n",
       "Kedah       200\n",
       "Kelantan    100\n",
       "Melaka       50\n",
       "Pahang       10\n",
       "dtype: int64"
      ]
     },
     "execution_count": 20,
     "metadata": {},
     "output_type": "execute_result"
    }
   ],
   "source": [
    "data = {\n",
    "    'Johor': 300,\n",
    "    'Kedah': 200,\n",
    "    'Kelantan': 100,\n",
    "    'Melaka': 50,\n",
    "    'Pahang': 10\n",
    "}\n",
    "mypopulationseries = pd.Series(data)\n",
    "mypopulationseries"
   ]
  },
  {
   "cell_type": "code",
   "execution_count": 23,
   "id": "b6ca377b-bfe1-4c82-ad52-223f170e260a",
   "metadata": {},
   "outputs": [
    {
     "data": {
      "text/plain": [
       "Johor    300\n",
       "Kedah    200\n",
       "dtype: int64"
      ]
     },
     "execution_count": 23,
     "metadata": {},
     "output_type": "execute_result"
    }
   ],
   "source": [
    "mypopulationseries[['Johor','Kedah']]"
   ]
  },
  {
   "cell_type": "code",
   "execution_count": 24,
   "id": "232f8fa0-5c9e-4c4d-b302-50a413c622fa",
   "metadata": {},
   "outputs": [
    {
     "data": {
      "text/plain": [
       "0     apple\n",
       "2     mango\n",
       "4    grapes\n",
       "dtype: object"
      ]
     },
     "execution_count": 24,
     "metadata": {},
     "output_type": "execute_result"
    }
   ],
   "source": [
    "mysecondseries [[0,2,4]]"
   ]
  },
  {
   "cell_type": "code",
   "execution_count": 26,
   "id": "ca17e220-ee4c-4bf7-8a08-a7b1d6056d8b",
   "metadata": {},
   "outputs": [
    {
     "data": {
      "text/plain": [
       "0     apple\n",
       "2     mango\n",
       "4    grapes\n",
       "dtype: object"
      ]
     },
     "execution_count": 26,
     "metadata": {},
     "output_type": "execute_result"
    }
   ],
   "source": [
    "# loc used to pull out rows in a series\n",
    "\n",
    "mysecondseries.loc[[0,2,4]]"
   ]
  },
  {
   "cell_type": "code",
   "execution_count": 27,
   "id": "1a76fcc1-74a3-4595-a125-9a2aeb4d2d14",
   "metadata": {},
   "outputs": [
    {
     "data": {
      "text/plain": [
       "Johor     300\n",
       "Kedah     200\n",
       "Melaka     50\n",
       "dtype: int64"
      ]
     },
     "execution_count": 27,
     "metadata": {},
     "output_type": "execute_result"
    }
   ],
   "source": [
    "mypopulationseries.loc[['Johor', 'Kedah', 'Melaka']]"
   ]
  },
  {
   "cell_type": "code",
   "execution_count": 28,
   "id": "03251c79-0b52-4344-a154-7d0593dca361",
   "metadata": {},
   "outputs": [
    {
     "data": {
      "text/plain": [
       "np.int64(300)"
      ]
     },
     "execution_count": 28,
     "metadata": {},
     "output_type": "execute_result"
    }
   ],
   "source": [
    "# does mypopulationseries has generated index?\n",
    "\n",
    "mypopulationseries.iloc[0]"
   ]
  },
  {
   "cell_type": "code",
   "execution_count": 29,
   "id": "813acc3b-7c78-4787-85bd-ce358d1cab7f",
   "metadata": {},
   "outputs": [
    {
     "data": {
      "text/plain": [
       "Johor       300\n",
       "Kedah       200\n",
       "Kelantan    100\n",
       "Melaka       50\n",
       "dtype: int64"
      ]
     },
     "execution_count": 29,
     "metadata": {},
     "output_type": "execute_result"
    }
   ],
   "source": [
    "mypopulationseries.iloc[0:4]"
   ]
  },
  {
   "cell_type": "code",
   "execution_count": 30,
   "id": "e28d626a-780d-4cae-8f1e-2569a5fc6269",
   "metadata": {},
   "outputs": [
    {
     "data": {
      "text/plain": [
       "Johor       300\n",
       "Kelantan    100\n",
       "Pahang       10\n",
       "dtype: int64"
      ]
     },
     "execution_count": 30,
     "metadata": {},
     "output_type": "execute_result"
    }
   ],
   "source": [
    "mypopulationseries.iloc[[0,2,4]]"
   ]
  },
  {
   "cell_type": "code",
   "execution_count": 34,
   "id": "26ffd633-6182-4f09-960a-9c5996786424",
   "metadata": {},
   "outputs": [
    {
     "data": {
      "text/plain": [
       "Johor       300\n",
       "Kedah       200\n",
       "Kelantan    100\n",
       "Melaka       50\n",
       "Pahang       10\n",
       "dtype: int32"
      ]
     },
     "execution_count": 34,
     "metadata": {},
     "output_type": "execute_result"
    }
   ],
   "source": [
    "mypopulationseries = mypopulationseries.astype ('int32')\n",
    "mypopulationseries"
   ]
  },
  {
   "cell_type": "code",
   "execution_count": 36,
   "id": "a79e5a5e-a315-466e-a715-4fdd2b0924f4",
   "metadata": {},
   "outputs": [
    {
     "data": {
      "text/plain": [
       "dtype('int32')"
      ]
     },
     "execution_count": 36,
     "metadata": {},
     "output_type": "execute_result"
    }
   ],
   "source": [
    "mypopulationseries.dtype"
   ]
  },
  {
   "cell_type": "code",
   "execution_count": 35,
   "id": "34f0193a-1ebb-43c5-b6f8-0b257fb7022e",
   "metadata": {},
   "outputs": [
    {
     "data": {
      "text/plain": [
       "pandas.core.series.Series"
      ]
     },
     "execution_count": 35,
     "metadata": {},
     "output_type": "execute_result"
    }
   ],
   "source": [
    "type(mypopulationseries)"
   ]
  },
  {
   "cell_type": "code",
   "execution_count": 38,
   "id": "f6753103-dc66-4603-a418-d14f764f92dd",
   "metadata": {},
   "outputs": [
    {
     "data": {
      "text/plain": [
       "[300, 200, 100, 50, 10]"
      ]
     },
     "execution_count": 38,
     "metadata": {},
     "output_type": "execute_result"
    }
   ],
   "source": [
    "mypopulationlist = mypopulationseries.tolist()\n",
    "mypopulationlist"
   ]
  },
  {
   "cell_type": "markdown",
   "id": "9f33c872-0084-4ad5-945e-6fbad19029ff",
   "metadata": {},
   "source": [
    "### Method and Universal Function"
   ]
  },
  {
   "cell_type": "code",
   "execution_count": 39,
   "id": "b433b61b-8d1a-4bd9-b9cc-f0115e7ed0ad",
   "metadata": {},
   "outputs": [
    {
     "data": {
      "text/plain": [
       "np.int64(660)"
      ]
     },
     "execution_count": 39,
     "metadata": {},
     "output_type": "execute_result"
    }
   ],
   "source": [
    "mypopulationseries.sum()"
   ]
  },
  {
   "cell_type": "code",
   "execution_count": 40,
   "id": "d99716a4-44f6-4fe8-ac54-b7651cac7eda",
   "metadata": {},
   "outputs": [
    {
     "data": {
      "text/plain": [
       "np.float64(132.0)"
      ]
     },
     "execution_count": 40,
     "metadata": {},
     "output_type": "execute_result"
    }
   ],
   "source": [
    "mypopulationseries.mean()"
   ]
  },
  {
   "cell_type": "code",
   "execution_count": 43,
   "id": "2526239c-463b-4db6-890d-fd8fec54c561",
   "metadata": {},
   "outputs": [
    {
     "data": {
      "text/plain": [
       "np.int64(660)"
      ]
     },
     "execution_count": 43,
     "metadata": {},
     "output_type": "execute_result"
    }
   ],
   "source": [
    "np.sum(mypopulationseries) "
   ]
  },
  {
   "cell_type": "markdown",
   "id": "65aa3aca-9de6-4e4c-9c67-2aedbf97dc52",
   "metadata": {},
   "source": [
    "### Aritmetic Operations"
   ]
  },
  {
   "cell_type": "code",
   "execution_count": 44,
   "id": "c89c6c6a-ae81-4690-90a1-b7a7d8f45f83",
   "metadata": {},
   "outputs": [
    {
     "data": {
      "text/plain": [
       "Johor       300\n",
       "Kedah       200\n",
       "Kelantan    100\n",
       "Melaka       50\n",
       "Pahang       10\n",
       "dtype: int64"
      ]
     },
     "execution_count": 44,
     "metadata": {},
     "output_type": "execute_result"
    }
   ],
   "source": [
    "data = {\n",
    "    'Johor': 300,\n",
    "    'Kedah': 200,\n",
    "    'Kelantan': 100,\n",
    "    'Melaka': 50,\n",
    "    'Pahang': 10\n",
    "}\n",
    "mypopulationseries2023 = pd.Series(data)\n",
    "mypopulationseries2023"
   ]
  },
  {
   "cell_type": "code",
   "execution_count": 45,
   "id": "6ffaf879-c8e3-4909-a435-c725f340d8ca",
   "metadata": {},
   "outputs": [
    {
     "data": {
      "text/plain": [
       "Johor       300\n",
       "Kedah       200\n",
       "Kelantan    100\n",
       "Penang      900\n",
       "Pahang       10\n",
       "dtype: int64"
      ]
     },
     "execution_count": 45,
     "metadata": {},
     "output_type": "execute_result"
    }
   ],
   "source": [
    "data = {\n",
    "    'Johor': 300,\n",
    "    'Kedah': 200,\n",
    "    'Kelantan': 100,\n",
    "    'Penang': 900,\n",
    "    'Pahang': 10\n",
    "}\n",
    "mypopulationseries2024 = pd.Series(data)\n",
    "mypopulationseries2024"
   ]
  },
  {
   "cell_type": "code",
   "execution_count": 48,
   "id": "41d4acb5-4b61-4354-ab0b-ef9e9db80307",
   "metadata": {},
   "outputs": [
    {
     "data": {
      "text/plain": [
       "Johor       600.0\n",
       "Kedah       400.0\n",
       "Kelantan    200.0\n",
       "Melaka        NaN\n",
       "Pahang       20.0\n",
       "Penang        NaN\n",
       "dtype: float64"
      ]
     },
     "execution_count": 48,
     "metadata": {},
     "output_type": "execute_result"
    }
   ],
   "source": [
    "# mypopulationseries2023.add(mypopulationseries2024)    or \n",
    "mypopulationseries2023 + mypopulationseries2024"
   ]
  },
  {
   "cell_type": "code",
   "execution_count": 49,
   "id": "f31c8b71-9d86-45e1-950c-7c0a98d9dade",
   "metadata": {},
   "outputs": [
    {
     "data": {
      "text/plain": [
       "Johor       0.0\n",
       "Kedah       0.0\n",
       "Kelantan    0.0\n",
       "Melaka      NaN\n",
       "Pahang      0.0\n",
       "Penang      NaN\n",
       "dtype: float64"
      ]
     },
     "execution_count": 49,
     "metadata": {},
     "output_type": "execute_result"
    }
   ],
   "source": [
    "# mypopulationseries2023.sub(mypopulationseries2024)    or \n",
    "mypopulationseries2023 - mypopulationseries2024"
   ]
  },
  {
   "cell_type": "code",
   "execution_count": 51,
   "id": "10f03d04-27d3-4eb5-ba5c-b8a58e8f038f",
   "metadata": {},
   "outputs": [
    {
     "data": {
      "text/plain": [
       "Johor       90000.0\n",
       "Kedah       40000.0\n",
       "Kelantan    10000.0\n",
       "Melaka          NaN\n",
       "Pahang        100.0\n",
       "Penang          NaN\n",
       "dtype: float64"
      ]
     },
     "execution_count": 51,
     "metadata": {},
     "output_type": "execute_result"
    }
   ],
   "source": [
    "mypopulationseries2023.mul(mypopulationseries2024)    \n",
    "# mypopulationseries2023 * mypopulationseries2024"
   ]
  },
  {
   "cell_type": "code",
   "execution_count": 52,
   "id": "de3c468b-f93e-4a9d-b244-146472cc9743",
   "metadata": {},
   "outputs": [
    {
     "data": {
      "text/plain": [
       "Johor       1.0\n",
       "Kedah       1.0\n",
       "Kelantan    1.0\n",
       "Melaka      NaN\n",
       "Pahang      1.0\n",
       "Penang      NaN\n",
       "dtype: float64"
      ]
     },
     "execution_count": 52,
     "metadata": {},
     "output_type": "execute_result"
    }
   ],
   "source": [
    "mypopulationseries2023.div(mypopulationseries2024)    \n",
    "# mypopulationseries2023 / mypopulationseries2024"
   ]
  },
  {
   "cell_type": "markdown",
   "id": "7f2d5f0e-3d91-4965-a26a-a3aab5300298",
   "metadata": {},
   "source": [
    "### Functions"
   ]
  },
  {
   "cell_type": "code",
   "execution_count": 53,
   "id": "5618d855-2ac6-422c-b719-fcaddb7ffa2e",
   "metadata": {},
   "outputs": [
    {
     "data": {
      "text/plain": [
       "np.int64(6)"
      ]
     },
     "execution_count": 53,
     "metadata": {},
     "output_type": "execute_result"
    }
   ],
   "source": [
    "mydata = pd.Series([1,2,3])\n",
    "mydata.prod()"
   ]
  },
  {
   "cell_type": "code",
   "execution_count": 54,
   "id": "36382073-4f30-4648-b011-0e719d942957",
   "metadata": {},
   "outputs": [
    {
     "data": {
      "text/plain": [
       "np.float64(105.33755265810954)"
      ]
     },
     "execution_count": 54,
     "metadata": {},
     "output_type": "execute_result"
    }
   ],
   "source": [
    "np.std(mypopulationseries)"
   ]
  },
  {
   "cell_type": "code",
   "execution_count": 55,
   "id": "602e9a31-2780-40e8-8137-ce3a7818577c",
   "metadata": {},
   "outputs": [
    {
     "data": {
      "text/plain": [
       "np.float64(11096.0)"
      ]
     },
     "execution_count": 55,
     "metadata": {},
     "output_type": "execute_result"
    }
   ],
   "source": [
    "np.var(mypopulationseries)"
   ]
  },
  {
   "cell_type": "code",
   "execution_count": 58,
   "id": "e75d1c57-be51-476d-a3a4-3219f7d3010a",
   "metadata": {},
   "outputs": [
    {
     "data": {
      "text/plain": [
       "np.float64(4.0)"
      ]
     },
     "execution_count": 58,
     "metadata": {},
     "output_type": "execute_result"
    }
   ],
   "source": [
    "# covariance\n",
    "\n",
    "myfirstseries = pd.Series([2,4,6])\n",
    "mysecondseries = pd.Series ([1,3,5])\n",
    "myfirstseries.cov(mysecondseries)"
   ]
  },
  {
   "cell_type": "code",
   "execution_count": 61,
   "id": "d75a1aad-ab5c-4fa0-b147-82126ba43a42",
   "metadata": {},
   "outputs": [
    {
     "data": {
      "text/plain": [
       "np.float64(1.0)"
      ]
     },
     "execution_count": 61,
     "metadata": {},
     "output_type": "execute_result"
    }
   ],
   "source": [
    "# correlation\n",
    "# -1 negative\n",
    "# 1 positive\n",
    "# 0 no relationship\n",
    "\n",
    "myfirstseries.corr(mysecondseries)"
   ]
  },
  {
   "cell_type": "code",
   "execution_count": 69,
   "id": "1f44f628-6022-4fc2-a8e4-92b538a666c2",
   "metadata": {},
   "outputs": [
    {
     "data": {
      "text/plain": [
       "0     2\n",
       "1     4\n",
       "2     6\n",
       "3     4\n",
       "4     8\n",
       "5    10\n",
       "6     4\n",
       "7     4\n",
       "8    12\n",
       "dtype: int64"
      ]
     },
     "execution_count": 69,
     "metadata": {},
     "output_type": "execute_result"
    }
   ],
   "source": [
    "mythirdseries = pd.Series([2,4,6,4,8,10,4,4,12])\n",
    "mythirdseries"
   ]
  },
  {
   "cell_type": "code",
   "execution_count": 70,
   "id": "f90ab5ad-f208-4273-97b3-da26d839bd87",
   "metadata": {},
   "outputs": [
    {
     "data": {
      "text/plain": [
       "9"
      ]
     },
     "execution_count": 70,
     "metadata": {},
     "output_type": "execute_result"
    }
   ],
   "source": [
    "mythirdseries.size       # values"
   ]
  },
  {
   "cell_type": "code",
   "execution_count": 71,
   "id": "05a5ee4d-cde1-4bc4-9210-6dacb1b8ed7b",
   "metadata": {},
   "outputs": [
    {
     "data": {
      "text/plain": [
       "np.int64(9)"
      ]
     },
     "execution_count": 71,
     "metadata": {},
     "output_type": "execute_result"
    }
   ],
   "source": [
    "mythirdseries.count()    # not null values"
   ]
  },
  {
   "cell_type": "code",
   "execution_count": 72,
   "id": "ca040152-6686-4a06-8d46-4e93dc45751e",
   "metadata": {},
   "outputs": [
    {
     "data": {
      "text/plain": [
       "4     4\n",
       "2     1\n",
       "6     1\n",
       "8     1\n",
       "10    1\n",
       "12    1\n",
       "Name: count, dtype: int64"
      ]
     },
     "execution_count": 72,
     "metadata": {},
     "output_type": "execute_result"
    }
   ],
   "source": [
    "mythirdseries.value_counts()"
   ]
  },
  {
   "cell_type": "code",
   "execution_count": null,
   "id": "fed48eaa-a6de-4424-9a22-0ce4baabc38c",
   "metadata": {},
   "outputs": [],
   "source": []
  }
 ],
 "metadata": {
  "kernelspec": {
   "display_name": "Python 3 (ipykernel)",
   "language": "python",
   "name": "python3"
  },
  "language_info": {
   "codemirror_mode": {
    "name": "ipython",
    "version": 3
   },
   "file_extension": ".py",
   "mimetype": "text/x-python",
   "name": "python",
   "nbconvert_exporter": "python",
   "pygments_lexer": "ipython3",
   "version": "3.12.4"
  }
 },
 "nbformat": 4,
 "nbformat_minor": 5
}
